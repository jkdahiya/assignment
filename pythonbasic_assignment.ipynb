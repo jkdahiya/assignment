{
 "cells": [
  {
   "cell_type": "code",
   "execution_count": null,
   "id": "6dc5ff78-7dc3-4244-93af-11796a53b703",
   "metadata": {},
   "outputs": [],
   "source": [
    "\"\"\"\n",
    "Ques1-  What is Python, and why is it popular ? \n",
    "Ans  -  Python is highlevel programming langugage and easy to write and read\n",
    "        It is popular for the following reasons\n",
    "        - it is easy to read and write\n",
    "        - it is open source and free for all\n",
    "        - it has large number of library which can be used for different type of works like web development, data anylytics, data science etc.\n",
    "        - it has large community which help in problem solving \n",
    "        - it can be intigrated with other system and languages\n",
    "\"\"\""
   ]
  },
  {
   "cell_type": "code",
   "execution_count": null,
   "id": "19280bf7-a80f-4743-8f0b-8098144c6c68",
   "metadata": {},
   "outputs": [],
   "source": [
    "\"\"\"\n",
    "Ques2- What is an interpreter in Python ?\n",
    "Ans  - Interpreter in phython is a programme which executes the code line by line so we need to write the entire programme and than execute it as done\n",
    "       in other programming languages. it helps the programmer to see the execution of code instantly and do correcting if required at the same time.\n",
    "\"\"\""
   ]
  },
  {
   "cell_type": "code",
   "execution_count": null,
   "id": "a3405c11-28f7-43b9-8281-fb8134984bf9",
   "metadata": {},
   "outputs": [],
   "source": [
    "\"\"\"\n",
    "Ques3- What are pre-defined keywords in Python?\n",
    "Ans-   Predefined keywords are the reseverd word in phython which has special function attached to them by default. we cannot use these predefined \n",
    "       keywords as variable name .\n",
    "\"\"\""
   ]
  },
  {
   "cell_type": "code",
   "execution_count": null,
   "id": "05775c53-9f39-415d-90e1-b61f50e73f13",
   "metadata": {},
   "outputs": [],
   "source": [
    "\"\"\"\n",
    "Ques4- Can keywords be used as variable names?\n",
    "Ans-   No we cannot use predefined keywords as variable as phython throw syntex error if we execute that line of code.\n",
    "\"\"\""
   ]
  },
  {
   "cell_type": "code",
   "execution_count": null,
   "id": "55949a84-522f-4c2a-8f30-c9070df0ec62",
   "metadata": {},
   "outputs": [],
   "source": [
    "\"\"\"\n",
    "Ques5- What is mutability in Python?\n",
    "Ans-   Mutablily in phython means if the object state or value can be changed after its creation if yes we can say its mutable object if no then it is\n",
    "       immutable object.\n",
    "\"\"\""
   ]
  },
  {
   "cell_type": "code",
   "execution_count": null,
   "id": "52b90248-fa53-4c4e-93c0-6bb5c1b34bed",
   "metadata": {},
   "outputs": [],
   "source": [
    "\"\"\"\n",
    "Ques6- Why are lists mutable, but tuples are immutable?\n",
    "Ans-   In python lists is mutable as we can change or add some value in the list after creating it. but tupple is immutable as we cannot change or add \n",
    "       any value after tupple is created\n",
    "\"\"\""
   ]
  },
  {
   "cell_type": "code",
   "execution_count": null,
   "id": "4f626485-444c-444f-82c7-fcf6c82408f7",
   "metadata": {},
   "outputs": [],
   "source": [
    "\"\"\"\n",
    "Ques7- What is the difference between “==” and “is” operators in Python?\n",
    "Ans-   In phython both \"==\" and \"is\" operator used for comparing the data. the diffrence between them is \"==\" is used to compare the value of two object\n",
    "       and on the other hand \"is\" is used to compare if the two object are refering to the same memory block or we can say \"is\" compare the identity of\n",
    "       two objects.\n",
    "\"\"\""
   ]
  },
  {
   "cell_type": "code",
   "execution_count": null,
   "id": "85932d49-a66a-401b-a750-5f0d38381486",
   "metadata": {},
   "outputs": [],
   "source": [
    "\"\"\"\n",
    "Ques8- What are logical operators in Python?\n",
    "Ans-   Logical operators in phython are used for conditional statement and after comparing statement gives us the result in True or False. there are\n",
    "       logical operator in phython \"and\" \"or\" \"not\" \n",
    "\"\"\""
   ]
  },
  {
   "cell_type": "code",
   "execution_count": null,
   "id": "76e1cc25-451f-42c6-84af-0c6696a2d069",
   "metadata": {},
   "outputs": [],
   "source": [
    "\"\"\"\n",
    "Ques9- What is type casting in Python?\n",
    "Ans-   type casting in python is used for changing the data type of object. it is done automatically by compiler ( Implicit ) and also be done\n",
    "       programmer manually ( explicit )\n",
    "\"\"\""
   ]
  },
  {
   "cell_type": "code",
   "execution_count": null,
   "id": "03b24951-6635-4116-8abf-477552b71d74",
   "metadata": {},
   "outputs": [],
   "source": [
    "\"\"\"\n",
    "Ques10- What is the difference between implicit and explicit type casting?\n",
    "Ans-    Implicit type casting is the process in which compiler automatically detect and assing the data type to the object but in Explicit type \n",
    "        casting programmer need to assign the data types by using operators.\n",
    "\"\"\""
   ]
  },
  {
   "cell_type": "code",
   "execution_count": null,
   "id": "effb135a-9665-4245-9fd4-f3a62960b75a",
   "metadata": {},
   "outputs": [],
   "source": [
    "\"\"\"\n",
    "Ques11- What is the purpose of conditional statements in Python?\n",
    "Ans-    conditional statement in phython is used for comparing the statements and run the different block of code depending upon the result we get\n",
    "        after comparing.\n",
    "\"\"\""
   ]
  },
  {
   "cell_type": "code",
   "execution_count": null,
   "id": "5eaca9c7-48e7-4e3f-ada8-e282df86989e",
   "metadata": {},
   "outputs": [],
   "source": [
    "\"\"\"\n",
    "Ques12- How does the elif statement work?\n",
    "Ans-    elif is not but (else if ) in phython it mainly work after the first condition we defined with \"if\" condition is not true then only elif\n",
    "        statement is executed.\n",
    "\"\"\""
   ]
  },
  {
   "cell_type": "code",
   "execution_count": null,
   "id": "983126c3-3742-4b74-b5b4-90bda8239339",
   "metadata": {},
   "outputs": [],
   "source": [
    "\"\"\"\n",
    "Ques13- What is the difference between for and while loops?\n",
    "Ans-    in python \"for\" loop is used when we exectly know how many iteration we need to perform and \"while\" loop is used when number of iteration is \n",
    "        unknow and while loop run iteration until condition we defined being met.\n",
    "\"\"\""
   ]
  },
  {
   "cell_type": "code",
   "execution_count": null,
   "id": "ad83f65b-ed68-4284-97e6-f66f90257612",
   "metadata": {},
   "outputs": [],
   "source": [
    "\"\"\"\n",
    "Ques14- Describe a scenario where a while loop is more suitable than a for loop.\n",
    "Ans-    Password validator is a good example for \"while\" loop as continue to run until the condition specified are not met ans as soon as it is met\n",
    "        it exits the loop.\n",
    "\"\"\""
   ]
  },
  {
   "cell_type": "code",
   "execution_count": null,
   "id": "7377be46-641a-4723-9710-644753692755",
   "metadata": {},
   "outputs": [],
   "source": [
    "#practical Questions"
   ]
  },
  {
   "cell_type": "code",
   "execution_count": null,
   "id": "21989df3-fb21-4c0a-8c4d-d3b5ad6bebcd",
   "metadata": {},
   "outputs": [],
   "source": [
    "# 1 Write a Python program to print \"Hello, World!"
   ]
  },
  {
   "cell_type": "code",
   "execution_count": 1,
   "id": "146d66ef-c3db-404a-8c98-73dfe494fd99",
   "metadata": {},
   "outputs": [
    {
     "name": "stdout",
     "output_type": "stream",
     "text": [
      "Hello world\n"
     ]
    }
   ],
   "source": [
    "print(\"Hello world\")"
   ]
  },
  {
   "cell_type": "code",
   "execution_count": null,
   "id": "cd14ad15-274a-4431-8c84-32ff4b97a9a7",
   "metadata": {},
   "outputs": [],
   "source": [
    "# 2 Write a Python program that displays your name and age"
   ]
  },
  {
   "cell_type": "code",
   "execution_count": 3,
   "id": "2800a578-36ab-43a6-b469-4a835689272e",
   "metadata": {},
   "outputs": [
    {
     "name": "stdin",
     "output_type": "stream",
     "text": [
      "Enter your age: 35\n",
      "Enter your name: jai dahiya\n"
     ]
    },
    {
     "name": "stdout",
     "output_type": "stream",
     "text": [
      "hello jai dahiya your age is 35.\n"
     ]
    }
   ],
   "source": [
    "age = input(\"Enter your age:\")\n",
    "name = input(\"Enter your name:\")\n",
    "print(f\"hello {name} your age is {age}.\")"
   ]
  },
  {
   "cell_type": "code",
   "execution_count": null,
   "id": "47bacad8-c41d-4174-96f5-84a4d3cf2665",
   "metadata": {},
   "outputs": [],
   "source": [
    "# 3 Write code to print all the pre-defined keywords in Python using the keyword library"
   ]
  },
  {
   "cell_type": "code",
   "execution_count": 2,
   "id": "cb8e7656-94e1-43b5-9c45-0afc57ea5cf2",
   "metadata": {},
   "outputs": [
    {
     "name": "stdout",
     "output_type": "stream",
     "text": [
      "['False', 'None', 'True', 'and', 'as', 'assert', 'async', 'await', 'break', 'class', 'continue', 'def', 'del', 'elif', 'else', 'except', 'finally', 'for', 'from', 'global', 'if', 'import', 'in', 'is', 'lambda', 'nonlocal', 'not', 'or', 'pass', 'raise', 'return', 'try', 'while', 'with', 'yield']\n"
     ]
    }
   ],
   "source": [
    "import keyword\n",
    "print(keyword.kwlist)"
   ]
  },
  {
   "cell_type": "code",
   "execution_count": null,
   "id": "5160f4ec-6d8a-4b1e-9b31-5697774d78a0",
   "metadata": {},
   "outputs": [],
   "source": [
    "# 4 Write a program that checks if a given word is a Python keyword"
   ]
  },
  {
   "cell_type": "code",
   "execution_count": 10,
   "id": "6cd369a0-4000-4644-b999-d0041b12f70a",
   "metadata": {},
   "outputs": [
    {
     "name": "stdin",
     "output_type": "stream",
     "text": [
      "Enter keyword while\n"
     ]
    },
    {
     "name": "stdout",
     "output_type": "stream",
     "text": [
      "while is a python keyword\n"
     ]
    }
   ],
   "source": [
    "import keyword\n",
    "word = input(\"Enter keyword\")\n",
    "if keyword.iskeyword(word):\n",
    "    print(f\"{word} is a python keyword\")\n",
    "else:\n",
    "    print(f\"{word} is not a python keyword\")"
   ]
  },
  {
   "cell_type": "code",
   "execution_count": null,
   "id": "cc954a8e-9677-4e2b-8f00-9fc7db8e0c1f",
   "metadata": {},
   "outputs": [],
   "source": [
    "# 5 Create a list and tuple in Python, and demonstrate how attempting to change an element works differently"
   ]
  },
  {
   "cell_type": "code",
   "execution_count": 18,
   "id": "0715f165-18de-4cee-84fd-4331931efd3a",
   "metadata": {},
   "outputs": [
    {
     "data": {
      "text/plain": [
       "['apple', 'Mango', 'banana', 'stawberry']"
      ]
     },
     "execution_count": 18,
     "metadata": {},
     "output_type": "execute_result"
    }
   ],
   "source": [
    "fruits = ['apple', 'orange', 'banana', 'stawberry']  # List created\n",
    "fruits[1]='Mango'  # accsess the element from the list and changed the element as list is mutable\n",
    "fruits"
   ]
  },
  {
   "cell_type": "code",
   "execution_count": 19,
   "id": "046cd24d-c9e4-415b-b66d-3c6647f9fbe3",
   "metadata": {},
   "outputs": [],
   "source": [
    "Emp_id=(1499,1500,1501,1502,1503) # tupple created"
   ]
  },
  {
   "cell_type": "code",
   "execution_count": 20,
   "id": "a7642fce-7b04-42c9-890a-c92119f39bbb",
   "metadata": {},
   "outputs": [
    {
     "data": {
      "text/plain": [
       "(1499, 1500, 1501, 1502, 1503)"
      ]
     },
     "execution_count": 20,
     "metadata": {},
     "output_type": "execute_result"
    }
   ],
   "source": [
    "Emp_id"
   ]
  },
  {
   "cell_type": "code",
   "execution_count": 21,
   "id": "84487252-edfc-4d99-8f53-0c5a5761189e",
   "metadata": {},
   "outputs": [
    {
     "data": {
      "text/plain": [
       "1500"
      ]
     },
     "execution_count": 21,
     "metadata": {},
     "output_type": "execute_result"
    }
   ],
   "source": [
    "Emp_id[1] # acessed the 2 nd element from tuple by indexation"
   ]
  },
  {
   "cell_type": "code",
   "execution_count": 22,
   "id": "a033d393-32a2-40d1-9ef1-3147015a0b23",
   "metadata": {},
   "outputs": [
    {
     "ename": "TypeError",
     "evalue": "'tuple' object does not support item assignment",
     "output_type": "error",
     "traceback": [
      "\u001b[31m---------------------------------------------------------------------------\u001b[39m",
      "\u001b[31mTypeError\u001b[39m                                 Traceback (most recent call last)",
      "\u001b[36mCell\u001b[39m\u001b[36m \u001b[39m\u001b[32mIn[22]\u001b[39m\u001b[32m, line 1\u001b[39m\n\u001b[32m----> \u001b[39m\u001b[32m1\u001b[39m \u001b[43mEmp_id\u001b[49m\u001b[43m[\u001b[49m\u001b[32;43m1\u001b[39;49m\u001b[43m]\u001b[49m=\u001b[32m1503\u001b[39m\n",
      "\u001b[31mTypeError\u001b[39m: 'tuple' object does not support item assignment"
     ]
    }
   ],
   "source": [
    "Emp_id[1]=1503 # when trying to change the element in tupple it gives error as tuple is immutable"
   ]
  },
  {
   "cell_type": "code",
   "execution_count": null,
   "id": "a7fa2809-c6ad-4bae-93bf-321c82adb981",
   "metadata": {},
   "outputs": [],
   "source": [
    "# 7 Write a program that performs basic arithmetic operations on two user-input numbers."
   ]
  },
  {
   "cell_type": "code",
   "execution_count": 23,
   "id": "214a7d8f-447a-4391-a694-05b7c2ce0fa6",
   "metadata": {},
   "outputs": [
    {
     "name": "stdin",
     "output_type": "stream",
     "text": [
      "please enter first number: 15\n",
      "please enter second number: 12\n"
     ]
    },
    {
     "name": "stdout",
     "output_type": "stream",
     "text": [
      "27\n"
     ]
    }
   ],
   "source": [
    "Number1= int(input(\"please enter first number:\"))\n",
    "Number2= int(input(\"please enter second number:\"))\n",
    "print(Number1+Number2)\n"
   ]
  },
  {
   "cell_type": "code",
   "execution_count": null,
   "id": "7f169027-dd60-4625-9f40-01d0e340c980",
   "metadata": {},
   "outputs": [],
   "source": [
    "# 8 Write a program to demonstrate the use of logical operators."
   ]
  },
  {
   "cell_type": "code",
   "execution_count": 6,
   "id": "e2204399-0cd8-439c-aade-6c9f6b51744e",
   "metadata": {},
   "outputs": [
    {
     "name": "stdout",
     "output_type": "stream",
     "text": [
      "Please stay indoor its too hot outside\n"
     ]
    }
   ],
   "source": [
    "sunny_day = True\n",
    "temp = 46\n",
    "if sunny_day == True and temp <=45: # use of and operator\n",
    "    print(\"you can go to playground\")\n",
    "else:\n",
    "    print(\"Please stay indoor its too hot outside\")"
   ]
  },
  {
   "cell_type": "code",
   "execution_count": null,
   "id": "f9ad0988-aaef-49c0-bf88-b19c9875b9a2",
   "metadata": {},
   "outputs": [],
   "source": [
    "# 9 Write a Python program to convert user input from string to integer, float, and boolean types"
   ]
  },
  {
   "cell_type": "code",
   "execution_count": 4,
   "id": "0ab082c0-3a82-45cd-9961-31d809133e11",
   "metadata": {},
   "outputs": [
    {
     "name": "stdin",
     "output_type": "stream",
     "text": [
      "please enter True/False: true\n"
     ]
    },
    {
     "data": {
      "text/plain": [
       "bool"
      ]
     },
     "execution_count": 4,
     "metadata": {},
     "output_type": "execute_result"
    }
   ],
   "source": [
    "rainy_day = bool(input(\"please enter True/False:\"))\n",
    "type(rainy_day)"
   ]
  },
  {
   "cell_type": "code",
   "execution_count": 7,
   "id": "3a6f0df6-0c2a-48e5-8bf9-3bf32d8f24a6",
   "metadata": {},
   "outputs": [
    {
     "name": "stdin",
     "output_type": "stream",
     "text": [
      "enter temprature: 45\n"
     ]
    },
    {
     "data": {
      "text/plain": [
       "int"
      ]
     },
     "execution_count": 7,
     "metadata": {},
     "output_type": "execute_result"
    }
   ],
   "source": [
    "temprature = int(input(\"enter temprature:\"))\n",
    "type(temprature)"
   ]
  },
  {
   "cell_type": "code",
   "execution_count": 10,
   "id": "8ffbd5f8-8eda-40ae-9627-72a9fe915486",
   "metadata": {},
   "outputs": [
    {
     "name": "stdin",
     "output_type": "stream",
     "text": [
      "enter your weight: 62.5\n"
     ]
    },
    {
     "data": {
      "text/plain": [
       "float"
      ]
     },
     "execution_count": 10,
     "metadata": {},
     "output_type": "execute_result"
    }
   ],
   "source": [
    "weight = float(input(\"enter your weight:\"))\n",
    "type(weight)"
   ]
  },
  {
   "cell_type": "code",
   "execution_count": null,
   "id": "b3747947-f849-4798-a7ab-6e5664422e77",
   "metadata": {},
   "outputs": [],
   "source": [
    "# 11  Write a program that checks if a number is positive, negative, or zero"
   ]
  },
  {
   "cell_type": "code",
   "execution_count": 1,
   "id": "24463de2-be9c-48a3-b15d-298046c2e7b3",
   "metadata": {},
   "outputs": [
    {
     "name": "stdin",
     "output_type": "stream",
     "text": [
      "enter a number: 45\n"
     ]
    },
    {
     "name": "stdout",
     "output_type": "stream",
     "text": [
      "number is positive\n"
     ]
    }
   ],
   "source": [
    "num = float(input(\"enter a number:\"))\n",
    "if num > 0:\n",
    "    print(\"number is positive\")\n",
    "elif num < 0:\n",
    "    print(\"number is negitive\")\n",
    "else:\n",
    "    print(\"number is zero\")"
   ]
  },
  {
   "cell_type": "code",
   "execution_count": null,
   "id": "53b37680-9961-4430-8593-847aea0b5039",
   "metadata": {},
   "outputs": [],
   "source": [
    "# 12  Write a for loop to print numbers from 1 to 10"
   ]
  },
  {
   "cell_type": "code",
   "execution_count": 2,
   "id": "e3a4f7b1-50cc-45d7-b767-4f43761e0334",
   "metadata": {},
   "outputs": [
    {
     "name": "stdout",
     "output_type": "stream",
     "text": [
      "1\n",
      "2\n",
      "3\n",
      "4\n",
      "5\n",
      "6\n",
      "7\n",
      "8\n",
      "9\n",
      "10\n"
     ]
    }
   ],
   "source": [
    "for i in range(1,11):\n",
    "    print(i)"
   ]
  }
 ],
 "metadata": {
  "kernelspec": {
   "display_name": "Python 3 (ipykernel)",
   "language": "python",
   "name": "python3"
  },
  "language_info": {
   "codemirror_mode": {
    "name": "ipython",
    "version": 3
   },
   "file_extension": ".py",
   "mimetype": "text/x-python",
   "name": "python",
   "nbconvert_exporter": "python",
   "pygments_lexer": "ipython3",
   "version": "3.13.5"
  }
 },
 "nbformat": 4,
 "nbformat_minor": 5
}
